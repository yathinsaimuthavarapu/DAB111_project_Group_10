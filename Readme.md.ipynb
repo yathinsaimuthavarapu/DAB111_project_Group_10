{
 "cells": [
  {
   "cell_type": "markdown",
   "id": "128de54b",
   "metadata": {},
   "source": [
    "# Basic Flask Web Application\n",
    "\n",
    "## Overview\n",
    "This project collects data, stores it in a SQLite database, and serves it through a Flask web application.\n",
    "\n",
    "## Setup\n",
    "1. Install the required packages: `pip install - requirements.txt`\n",
    "2. Run the Flask application: `python app.py`\n",
    "\n",
    "## Files\n",
    "- `data`: Contains any data collection scripts\n",
    "- `database`: Contains the database setup scripts\n",
    "- `website`: Contains the Flask web application\n",
    "- `Readme.md`: Project description\n",
    "- `requirements.txt`: List of required packages"
   ]
  }
 ],
 "metadata": {
  "kernelspec": {
   "display_name": "Python 3 (ipykernel)",
   "language": "python",
   "name": "python3"
  },
  "language_info": {
   "codemirror_mode": {
    "name": "ipython",
    "version": 3
   },
   "file_extension": ".py",
   "mimetype": "text/x-python",
   "name": "python",
   "nbconvert_exporter": "python",
   "pygments_lexer": "ipython3",
   "version": "3.11.5"
  }
 },
 "nbformat": 4,
 "nbformat_minor": 5
}
