{
 "cells": [
  {
   "cell_type": "code",
   "execution_count": 1,
   "id": "9d15e0bc",
   "metadata": {},
   "outputs": [],
   "source": [
    "from flask import Flask, render_template_string, render_template\n",
    "from werkzeug.serving import run_simple\n",
    "import pandas as pd\n",
    "import sqlite3\n",
    "import pathlib"
   ]
  },
  {
   "cell_type": "code",
   "execution_count": 2,
   "id": "f7640f96",
   "metadata": {},
   "outputs": [],
   "source": [
    "cwd = pathlib.Path.cwd()\n",
    "basic_path = pathlib.Path(r\"C:\\Users\\Shash\\Downloads\\Python Project 2\")\n",
    "database_name = \"retail_data.db\"\n",
    "database_path = basic_path / database_name"
   ]
  },
  {
   "cell_type": "code",
   "execution_count": 3,
   "id": "bc285e8a",
   "metadata": {},
   "outputs": [],
   "source": [
    "retail = Flask(__name__,template_folder='templates')\n",
    "@retail.route(\"/\")\n",
    "def index():\n",
    "    return render_template(\"index.html\")\n",
    "\n",
    "@retail.route(\"/about\")\n",
    "def about():\n",
    "    return render_template(\"about.html\")\n",
    "\n",
    "@retail.route(\"/data\")\n",
    "def data():\n",
    "    con = sqlite3.connect(database_path)\n",
    "    cursor = con.cursor()\n",
    "    customer = cursor.execute(\"SELECT * FROM pd_retail_data limit 20\").fetchall()\n",
    "    con.close()\n",
    "    columns = ['InvoiceNo', 'StockCode', 'Description', 'Quantity', 'InvoiceDate', 'UnitPrice', 'CustomerID', 'Country']\n",
    "\n",
    "    return render_template(\"data.html\", columns=columns, customer=customer)\n"
   ]
  },
  {
   "cell_type": "code",
   "execution_count": null,
   "id": "5050a487",
   "metadata": {},
   "outputs": [
    {
     "name": "stderr",
     "output_type": "stream",
     "text": [
      "WARNING: This is a development server. Do not use it in a production deployment. Use a production WSGI server instead.\n",
      " * Running on http://localhost:7899\n",
      "Press CTRL+C to quit\n",
      "127.0.0.1 - - [21/Jul/2024 20:54:10] \"GET / HTTP/1.1\" 200 -\n",
      "127.0.0.1 - - [21/Jul/2024 20:54:13] \"GET /about HTTP/1.1\" 200 -\n",
      "127.0.0.1 - - [21/Jul/2024 20:54:17] \"GET /data HTTP/1.1\" 200 -\n"
     ]
    }
   ],
   "source": [
    "run_simple('localhost',7899,retail,use_reloader=False, use_debugger=False)"
   ]
  }
 ],
 "metadata": {
  "kernelspec": {
   "display_name": "Python 3 (ipykernel)",
   "language": "python",
   "name": "python3"
  },
  "language_info": {
   "codemirror_mode": {
    "name": "ipython",
    "version": 3
   },
   "file_extension": ".py",
   "mimetype": "text/x-python",
   "name": "python",
   "nbconvert_exporter": "python",
   "pygments_lexer": "ipython3",
   "version": "3.11.5"
  }
 },
 "nbformat": 4,
 "nbformat_minor": 5
}
